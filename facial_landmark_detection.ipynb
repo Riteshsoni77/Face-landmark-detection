{
 "cells": [
  {
   "cell_type": "code",
   "execution_count": 4,
   "id": "fec8d733-2ed1-4b0d-bcd0-e50225f39a29",
   "metadata": {},
   "outputs": [],
   "source": [
    "import cv2\n",
    "import mediapipe as mp"
   ]
  },
  {
   "cell_type": "code",
   "execution_count": 5,
   "id": "1cad0f1a-1077-4eef-8296-de88239b5f6d",
   "metadata": {},
   "outputs": [],
   "source": [
    "#mp_drawing =mp.solutions.drawing_utils\n",
    "#mp_drawing_style =mp.solutions.drawing_styles\n",
    "mp_drawing = mp.solutions.drawing_utils\n",
    "mp_drawing_styles = mp.solutions.drawing_styles\n",
    "mp_drawing_specs = mp_drawing.DrawingSpec(color=(0,150,0), thickness=1)\n",
    "\n"
   ]
  },
  {
   "cell_type": "code",
   "execution_count": null,
   "id": "fe80c7fd",
   "metadata": {},
   "outputs": [],
   "source": []
  },
  {
   "cell_type": "code",
   "execution_count": 6,
   "id": "14172610-e484-4e02-9f83-51ab94d3fae1",
   "metadata": {},
   "outputs": [
    {
     "ename": "TypeError",
     "evalue": "'NoneType' object is not iterable",
     "output_type": "error",
     "traceback": [
      "\u001b[31m---------------------------------------------------------------------------\u001b[39m",
      "\u001b[31mTypeError\u001b[39m                                 Traceback (most recent call last)",
      "\u001b[36mCell\u001b[39m\u001b[36m \u001b[39m\u001b[32mIn[6]\u001b[39m\u001b[32m, line 16\u001b[39m\n\u001b[32m     13\u001b[39m     \u001b[38;5;28;01mbreak\u001b[39;00m\n\u001b[32m     15\u001b[39m results=face_mesh.process(image)\n\u001b[32m---> \u001b[39m\u001b[32m16\u001b[39m \u001b[43m\u001b[49m\u001b[38;5;28;43;01mfor\u001b[39;49;00m\u001b[43m \u001b[49m\u001b[43mface_landmarks\u001b[49m\u001b[43m \u001b[49m\u001b[38;5;129;43;01min\u001b[39;49;00m\u001b[43m \u001b[49m\u001b[43mresults\u001b[49m\u001b[43m.\u001b[49m\u001b[43mmulti_face_landmarks\u001b[49m\u001b[43m:\u001b[49m\n\u001b[32m     17\u001b[39m \u001b[43m    \u001b[49m\u001b[38;5;66;43;03m# Draw mesh tesselation\u001b[39;49;00m\n\u001b[32m     18\u001b[39m \u001b[43m    \u001b[49m\u001b[43mmp_drawing\u001b[49m\u001b[43m.\u001b[49m\u001b[43mdraw_landmarks\u001b[49m\u001b[43m(\u001b[49m\n\u001b[32m     19\u001b[39m \u001b[43m        \u001b[49m\u001b[43mimage\u001b[49m\u001b[43m=\u001b[49m\u001b[43mimage\u001b[49m\u001b[43m,\u001b[49m\n\u001b[32m     20\u001b[39m \u001b[43m        \u001b[49m\u001b[43mlandmark_list\u001b[49m\u001b[43m=\u001b[49m\u001b[43mface_landmarks\u001b[49m\u001b[43m,\u001b[49m\n\u001b[32m   (...)\u001b[39m\u001b[32m     24\u001b[39m \u001b[43m       \u001b[49m\u001b[38;5;66;43;03m# connection_drawing_spec=mp_drawing_styles.get_default_face_mesh_tesselation_style()\u001b[39;49;00m\n\u001b[32m     25\u001b[39m \u001b[43m    \u001b[49m\u001b[43m)\u001b[49m\n\u001b[32m     26\u001b[39m \u001b[43m    \u001b[49m\u001b[38;5;66;43;03m# Draw face contours\u001b[39;49;00m\n",
      "\u001b[31mTypeError\u001b[39m: 'NoneType' object is not iterable"
     ]
    }
   ],
   "source": [
    "cap=cv2.VideoCapture(0)\n",
    "mp_face_mesh=mp.solutions.face_mesh\n",
    "with mp_face_mesh.FaceMesh(\n",
    "    max_num_faces=1,\n",
    "    refine_landmarks=True,\n",
    "    min_detection_confidence=0.5,\n",
    "    min_tracking_confidence= 0.5\n",
    ")as face_mesh:\n",
    "  \n",
    "    while cap.isOpened():\n",
    "        success, image= cap.read()\n",
    "        if not success:\n",
    "            break\n",
    "      \n",
    "        results=face_mesh.process(image)\n",
    "        for face_landmarks in results.multi_face_landmarks:\n",
    "            # Draw mesh tesselation\n",
    "            mp_drawing.draw_landmarks(\n",
    "                image=image,\n",
    "                landmark_list=face_landmarks,\n",
    "                connections=mp_face_mesh.FACEMESH_TESSELATION,\n",
    "                landmark_drawing_spec=None,\n",
    "                connection_drawing_spec=mp_drawing_specs\n",
    "               # connection_drawing_spec=mp_drawing_styles.get_default_face_mesh_tesselation_style()\n",
    "            )\n",
    "            # Draw face contours\n",
    "            mp_drawing.draw_landmarks(\n",
    "                image=image,\n",
    "                 landmark_list=face_landmarks,\n",
    "                 connections=mp_face_mesh.FACEMESH_CONTOURS,\n",
    "                 landmark_drawing_spec=None,\n",
    "               #  connection_drawing_spec=mp_drawing_styles.get_default_face_mesh_contours_style()\n",
    "                 connection_drawing_spec=mp_drawing_specs\n",
    "            )\n",
    "            # Draw irises\n",
    "            mp_drawing.draw_landmarks(\n",
    "                image=image,\n",
    "                landmark_list=face_landmarks,\n",
    "                connections=mp_face_mesh.FACEMESH_IRISES,\n",
    "                landmark_drawing_spec=None,\n",
    "                connection_drawing_spec=mp_drawing_specs\n",
    "               # connection_drawing_spec=mp_drawing_styles.get_default_face_mesh_iris_connections_style()\n",
    "            )\n",
    "\n",
    "            mp_drawing.draw_landmarks(\n",
    "                image=image,\n",
    "                landmark_list=face_landmarks,\n",
    "                connections=mp_face_mesh.FACEMESH_CONTOURS,\n",
    "                landmark_drawing_spec=None,\n",
    "                connection_drawing_spec=mp_drawing_specs\n",
    "\n",
    "                #connection_drawing_spec=mp_drawing_styles.get_default_face_mesh_contours_style()\n",
    "        )\n",
    "\n",
    "\n",
    "           \n",
    "          \n",
    "           \n",
    "            cv2.imshow(\"my video capture\",cv2.flip(image,1))\n",
    "        \n",
    "            if cv2.waitKey(100) == ord('q'):\n",
    "                break\n",
    "            \n",
    "    cap.release()\n",
    "    cv2.destroyAllWindows()"
   ]
  },
  {
   "cell_type": "code",
   "execution_count": null,
   "id": "1773e7d1-fd86-4db0-82b8-4e946bd55f3b",
   "metadata": {},
   "outputs": [],
   "source": []
  },
  {
   "cell_type": "code",
   "execution_count": null,
   "id": "ba24c163-8bd6-4b73-8f60-6040628d55ee",
   "metadata": {},
   "outputs": [],
   "source": []
  },
  {
   "cell_type": "code",
   "execution_count": null,
   "id": "d525dfa7-66af-4096-a5f8-bbeecd70e7e5",
   "metadata": {},
   "outputs": [],
   "source": []
  }
 ],
 "metadata": {
  "kernelspec": {
   "display_name": "Python 3 (ipykernel)",
   "language": "python",
   "name": "python3"
  },
  "language_info": {
   "codemirror_mode": {
    "name": "ipython",
    "version": 3
   },
   "file_extension": ".py",
   "mimetype": "text/x-python",
   "name": "python",
   "nbconvert_exporter": "python",
   "pygments_lexer": "ipython3",
   "version": "3.12.10"
  }
 },
 "nbformat": 4,
 "nbformat_minor": 5
}
